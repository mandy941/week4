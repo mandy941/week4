{
 "cells": [
  {
   "cell_type": "markdown",
   "metadata": {},
   "source": [
    "Task one: finds the distinct/unique common items between these two arrays\n",
    "#import the numpy and defined as np\n",
    "#input the value of array\n",
    "#utiliz the intersect1d to find the unique common items between two arrays."
   ]
  },
  {
   "cell_type": "code",
   "execution_count": 4,
   "metadata": {},
   "outputs": [
    {
     "name": "stdout",
     "output_type": "stream",
     "text": [
      "[2 4]\n"
     ]
    }
   ],
   "source": [
    "import numpy as np\n",
    "a = np.array([1, 2, 3, 2, 3, 4, 3, 4, 5, 6])\n",
    "b = np.array([7, 2, 10, 2, 7, 4, 9, 4, 9, 8])\n",
    "print(np.intersect1d(a,b))"
   ]
  },
  {
   "cell_type": "markdown",
   "metadata": {},
   "source": [
    "Task two: Create the following 5x3 array\n",
    "#import the numpy and defined as np\n",
    "#define the value of array\n",
    "#utilize for loop to output the results by column.\n",
    "#print the result"
   ]
  },
  {
   "cell_type": "code",
   "execution_count": 23,
   "metadata": {},
   "outputs": [
    {
     "name": "stdout",
     "output_type": "stream",
     "text": [
      "[ 1  6 11]\n",
      "[ 2  7 12]\n",
      "[ 3  8 13]\n",
      "[ 4  9 14]\n",
      "[ 5 10 15]\n"
     ]
    }
   ],
   "source": [
    "import numpy as np\n",
    "#output the value from 1 to 15 whose indexs is from 1 to 16, and reshape the output to be 3 rows and 5 column.\n",
    "#make the output display by column not row, it also means exchange to be 5 rows and 3 column. \n",
    "a = np.arange(1,16).reshape(3,5)\n",
    "for column in a.T:\n",
    "    print(column)"
   ]
  },
  {
   "cell_type": "markdown",
   "metadata": {},
   "source": [
    "Task three: removes from array a any items that are also present in array b\n",
    "#import the numpy and defined as np\n",
    "#input the value of array\n",
    "#utilize the setdiff1d to find the elements of array a that do not display in array b. "
   ]
  },
  {
   "cell_type": "code",
   "execution_count": 28,
   "metadata": {},
   "outputs": [
    {
     "name": "stdout",
     "output_type": "stream",
     "text": [
      "[ 1  7  8 15]\n"
     ]
    }
   ],
   "source": [
    "import numpy as np\n",
    "a = np.array([12, 5, 7, 15, 3, 1, 8])      \n",
    "b = np.array([14, 6, 3, 11, 19, 12, 5])\n",
    "#element display in a but b.\n",
    "print(np.setdiff1d(a,b))"
   ]
  },
  {
   "cell_type": "markdown",
   "metadata": {},
   "source": [
    "Task four: create a NumPy array where in you can record the cumulative miles you recorded each day during your trip,show the total miles that you rode each day.\n",
    "#import the numpy and defined as np\n",
    "#input the value of array\n",
    "#build a new arry that is the record begins from second day."
   ]
  },
  {
   "cell_type": "code",
   "execution_count": 57,
   "metadata": {},
   "outputs": [
    {
     "name": "stdout",
     "output_type": "stream",
     "text": [
      "[ 80 110  60  60   0  70  80  50  50  50   0  70  70  40  40  40  60  40\n",
      "  80   0  60  60  90  50  70  60  20  50   0  70  80  60  70  53]\n"
     ]
    }
   ],
   "source": [
    "#distance between NYC and Key West is 1933 kilometers.\n",
    "#there are four days rider did not ride during 35 days trips.\n",
    "#create a new array record1 that the record the cumulated Km that the rider rode begins from the first day, the ending number is 1933.\n",
    "#create a new array record2 that the cumulated Km the rider rode from the first day to the last second day,it is the index of record1 from  0 to 33.\n",
    "#create a nre array record3 that the cumulated Km the rider rode from the second day to the end,it is the index of record1 from 1 to 34.\n",
    "#to calculate the Km that riders rode for each day as record4. \n",
    "import numpy as np\n",
    "record1 = np.array([90, 170, 280, 340, 400, 400, 470, 550, 600, 650, 700, 700, 770, 840, 880, 920, 960, 1020, 1060, 1140, 1140, 1200, 1260, 1350, 1400, 1470, 1530, 1550, 1600, 1600, 1670, 1750, 1810, 1880, 1933])\n",
    "record2 = record1[:34]\n",
    "record3 = record1[1:35]\n",
    "record4 = record3 - record2\n",
    "print(record4)"
   ]
  },
  {
   "cell_type": "markdown",
   "metadata": {},
   "source": [
    "Task five: Answer questions"
   ]
  },
  {
   "cell_type": "code",
   "execution_count": 69,
   "metadata": {},
   "outputs": [
    {
     "name": "stdout",
     "output_type": "stream",
     "text": [
      "[[   1979.  7102100.     1512.      213. ]\n",
      " [   1980.  7071639.     1506.      213. ]\n",
      " [   1981.  7089241.     1309.      185. ]\n",
      " [   1982.  7109105.     1382.      194. ]\n",
      " [   1983.  7181224.     1424.      198. ]\n",
      " [   1984.  7234514.     1465.      203. ]\n",
      " [   1985.  7274054.     1326.      182. ]\n",
      " [   1986.  7319246.     1351.      185. ]\n",
      " [   1987.  7342476.     1447.      197. ]\n",
      " [   1988.  7353719.     1484.      202. ]\n",
      " [   1989.  7344175.     1402.      191. ]\n",
      " [   1990.  7335650.     1424.      194. ]\n",
      " [   1991.  7374501.     1469.      199. ]\n",
      " [   1992.  7428944.     1369.      184. ]\n",
      " [   1993.  7506166.     1368.5     182. ]\n",
      " [   1994.  7570458.     1357.7     179. ]\n",
      " [   1995.  7633040.     1325.7     174. ]\n",
      " [   1996.  7697812.     1297.9     169. ]\n",
      " [   1997.  7773443.     1205.5     155. ]\n",
      " [   1998.  7858259.     1219.5     155. ]\n",
      " [   1999.  7947660.     1237.2     156. ]\n",
      " [   2000.  8008278.     1240.4     155. ]\n",
      " [   2001.  8024963.5    1184.      148. ]\n",
      " [   2002.  8041649.     1135.6     141. ]\n",
      " [   2003.  8058334.5    1093.7     136. ]\n",
      " [   2004.  8075020.     1099.5     136. ]\n",
      " [   2005.  8091705.5    1138.      141. ]\n",
      " [   2006.  8108391.     1069.      132. ]\n",
      " [   2007.  8125076.5    1114.      137. ]\n",
      " [   2008.  8141762.     1098.      135. ]\n",
      " [   2009.  8158447.5    1007.5     123. ]\n",
      " [   2010.  8175133.     1039.      127. ]\n",
      " [   2011.  8284098.     1021.      123. ]\n",
      " [   2012.  8361179.     1009.1     121. ]\n",
      " [   2013.  8422460.     1006.1     119. ]\n",
      " [   2014.  8471990.      996.      118. ]\n",
      " [   2015.  8516502.     1009.      118. ]\n",
      " [   2016.  8537673.     1002.      117. ]\n",
      " [   2017.  8622698.      990.2     115. ]]\n"
     ]
    },
    {
     "name": "stderr",
     "output_type": "stream",
     "text": [
      "C:\\Users\\13750\\Anaconda3\\lib\\site-packages\\ipykernel_launcher.py:8: FutureWarning: Method .as_matrix will be removed in a future version. Use .values instead.\n",
      "  \n"
     ]
    }
   ],
   "source": [
    "import pandas\n",
    "import numpy as np\n",
    "\n",
    "# supress scientific notation\n",
    "np.set_printoptions(suppress = True)\n",
    "\n",
    "# read the data file from GitHub and convert to a NumPy ndarray object\n",
    "nyc_water = pandas.read_csv('https://raw.githubusercontent.com/jtopor/DAV-5400/master/Week4/Water_Consumption_In_The_New_York_City.csv').as_matrix()\n",
    "\n",
    "# verify you have an ndarray object\n",
    "type(nyc_water)\n",
    "print(nyc_water)"
   ]
  },
  {
   "cell_type": "markdown",
   "metadata": {},
   "source": [
    "What is the maximum yearly NYC consumption of water in millions of gallons per day?"
   ]
  },
  {
   "cell_type": "code",
   "execution_count": 82,
   "metadata": {},
   "outputs": [],
   "source": [
    "import numpy as np\n",
    "#import the numpy and defined as np\n",
    "#define the value of array\n",
    "nyc_water = np.array([nyc_water])\n",
    "#extract the max valuse in second column of array\n",
    "maxValue = max(nyc_water[:,2])\n"
   ]
  },
  {
   "cell_type": "markdown",
   "metadata": {},
   "source": [
    " How many calendar years are represented within this data set? NumPy's shape command is one way to find out."
   ]
  },
  {
   "cell_type": "code",
   "execution_count": null,
   "metadata": {},
   "outputs": [],
   "source": [
    "#use shape to find the total rows and column of array.\n",
    "numrows = np.shape(nyc_water)"
   ]
  },
  {
   "cell_type": "markdown",
   "metadata": {},
   "source": [
    "What is the mean and the standard deviation of the per capita daily water consumption?"
   ]
  },
  {
   "cell_type": "code",
   "execution_count": null,
   "metadata": {},
   "outputs": [],
   "source": [
    "#use mean to find the mean of row 4, index is 3, that is per capita daily water consumption\n",
    "#use std to find the standard deviation of row 4, index is 3, that is per capita daily water consumption\n",
    "meanrows = mean(nyc_water[:,3])\n",
    "sdrows = std(nyc_water[;,3])"
   ]
  },
  {
   "cell_type": "markdown",
   "metadata": {},
   "source": [
    "What is the increase or decrease in population from year to year? "
   ]
  },
  {
   "cell_type": "code",
   "execution_count": 84,
   "metadata": {},
   "outputs": [],
   "source": [
    "#extract the population column to be a new array\n",
    "#use diff to find the difference between each two years.\n",
    "pop = nyc_water[:,1]\n",
    "pop_diff = np.diff(pop, n = 2)"
   ]
  }
 ],
 "metadata": {
  "kernelspec": {
   "display_name": "Python 3",
   "language": "python",
   "name": "python3"
  },
  "language_info": {
   "codemirror_mode": {
    "name": "ipython",
    "version": 3
   },
   "file_extension": ".py",
   "mimetype": "text/x-python",
   "name": "python",
   "nbconvert_exporter": "python",
   "pygments_lexer": "ipython3",
   "version": "3.7.3"
  }
 },
 "nbformat": 4,
 "nbformat_minor": 2
}
