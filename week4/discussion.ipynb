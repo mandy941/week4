{
 "cells": [
  {
   "cell_type": "code",
   "execution_count": 2,
   "metadata": {},
   "outputs": [
    {
     "data": {
      "text/plain": [
       "array([  0, -10,   2, -10,   4, -10,   6, -10,   8, -10])"
      ]
     },
     "execution_count": 2,
     "metadata": {},
     "output_type": "execute_result"
    }
   ],
   "source": [
    "#import the numpy and defined as np\n",
    "#input the value of array\n",
    "#redefine the value of array,begins from the index 1 to the end, and make odd number to be -10\n",
    "#print the result\n",
    "import numpy as np\n",
    "arr = np.array([0,1,2,3,4,5,6,7,8,9])\n",
    "arr[1: :2] = -10\n",
    "arr"
   ]
  },
  {
   "cell_type": "code",
   "execution_count": null,
   "metadata": {},
   "outputs": [],
   "source": []
  },
  {
   "cell_type": "code",
   "execution_count": 15,
   "metadata": {},
   "outputs": [
    {
     "data": {
      "text/plain": [
       "array([[0, 1, 2, 3, 4],\n",
       "       [5, 6, 7, 8, 9]])"
      ]
     },
     "execution_count": 15,
     "metadata": {},
     "output_type": "execute_result"
    }
   ],
   "source": [
    "#import the numpy and defined as np\n",
    "#input the value of array\n",
    "#resize all ten values of array and reshape the ten vales as two dimensional array, each line contains 5 values of array.\n",
    "import numpy as np\n",
    "arr = np.array([0,1,2,3,4,5,6,7,8,9])\n",
    "np.resize(arr,10).reshape(2,5)\n"
   ]
  },
  {
   "cell_type": "code",
   "execution_count": 11,
   "metadata": {},
   "outputs": [
    {
     "data": {
      "text/plain": [
       "array([ 6,  8, 10, 12])"
      ]
     },
     "execution_count": 11,
     "metadata": {},
     "output_type": "execute_result"
    }
   ],
   "source": [
    "#import the numpy and defined as np\n",
    "#input the value of array\n",
    "#find the values of array that greater or equal to 5 and smaller or equal to 12.\n",
    "#print the result.\n",
    "import numpy as np\n",
    "arr = np.array([3,1,6,17,8,42,10,39,25,12,14,42])\n",
    "arr = arr[(5 <= arr) & (arr <= 12)]\n",
    "arr"
   ]
  },
  {
   "cell_type": "code",
   "execution_count": 12,
   "metadata": {},
   "outputs": [
    {
     "data": {
      "text/plain": [
       "array([[0, 1, 2],\n",
       "       [3, 4, 5],\n",
       "       [6, 7, 8]])"
      ]
     },
     "execution_count": 12,
     "metadata": {},
     "output_type": "execute_result"
    }
   ],
   "source": [
    "import numpy as np\n",
    "arr = np.arange(9).reshape(3,3)\n",
    "arr"
   ]
  },
  {
   "cell_type": "code",
   "execution_count": 18,
   "metadata": {},
   "outputs": [
    {
     "data": {
      "text/plain": [
       "array([[3, 4, 5],\n",
       "       [0, 1, 2],\n",
       "       [6, 7, 8]])"
      ]
     },
     "execution_count": 18,
     "metadata": {},
     "output_type": "execute_result"
    }
   ],
   "source": [
    "#import the numpy and defined as np\n",
    "#input the value of array\n",
    "#exchange the positions of first and second rows by exchange the index values of array. \n",
    "#print the result\n",
    "import numpy as np\n",
    "arr = np.arange(9).reshape(3,3)\n",
    "arr[[0,1]] = arr[[1,0]]\n",
    "arr"
   ]
  },
  {
   "cell_type": "code",
   "execution_count": 19,
   "metadata": {},
   "outputs": [
    {
     "data": {
      "text/plain": [
       "array([[0, 1, 2],\n",
       "       [3, 4, 5],\n",
       "       [6, 7, 8]])"
      ]
     },
     "execution_count": 19,
     "metadata": {},
     "output_type": "execute_result"
    }
   ],
   "source": [
    "import numpy as np\n",
    "arr = np.arange(9).reshape(3,3)\n",
    "arr[[1,0,2], :]\n",
    "arr"
   ]
  }
 ],
 "metadata": {
  "kernelspec": {
   "display_name": "Python 3",
   "language": "python",
   "name": "python3"
  },
  "language_info": {
   "codemirror_mode": {
    "name": "ipython",
    "version": 3
   },
   "file_extension": ".py",
   "mimetype": "text/x-python",
   "name": "python",
   "nbconvert_exporter": "python",
   "pygments_lexer": "ipython3",
   "version": "3.7.3"
  }
 },
 "nbformat": 4,
 "nbformat_minor": 2
}
